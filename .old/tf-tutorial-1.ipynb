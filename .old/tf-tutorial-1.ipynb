{
 "cells": [
  {
   "cell_type": "markdown",
   "metadata": {},
   "source": [
    "https://www.tensorflow.org/tutorials/quickstart/beginner"
   ]
  },
  {
   "cell_type": "code",
   "execution_count": 2,
   "metadata": {},
   "outputs": [],
   "source": [
    "import tensorflow as tf"
   ]
  },
  {
   "cell_type": "code",
   "execution_count": 3,
   "metadata": {},
   "outputs": [
    {
     "name": "stdout",
     "output_type": "stream",
     "text": [
      "TF Version: 2.9.1\n"
     ]
    }
   ],
   "source": [
    "print(\"TF Version:\", tf.__version__)"
   ]
  },
  {
   "cell_type": "code",
   "execution_count": 3,
   "metadata": {},
   "outputs": [],
   "source": [
    "mnist = tf.keras.datasets.mnist\n",
    "\n",
    "(x_train, y_train), (x_test, y_test) = mnist.load_data()\n",
    "x_train, x_test = x_train / 255.0, x_test / 255.0\n"
   ]
  },
  {
   "cell_type": "code",
   "execution_count": 13,
   "metadata": {},
   "outputs": [
    {
     "name": "stderr",
     "output_type": "stream",
     "text": [
      "2022-07-19 08:35:26.023302: I tensorflow/core/platform/cpu_feature_guard.cc:193] This TensorFlow binary is optimized with oneAPI Deep Neural Network Library (oneDNN) to use the following CPU instructions in performance-critical operations:  AVX2 FMA\n",
      "To enable them in other operations, rebuild TensorFlow with the appropriate compiler flags.\n"
     ]
    }
   ],
   "source": [
    "model = tf.keras.models.Sequential([\n",
    "    tf.keras.layers.Flatten(input_shape=(28,28)),\n",
    "    tf.keras.layers.Dense(128, activation = 'relu'),\n",
    "    tf.keras.layers.Dropout(0.2),\n",
    "    tf.keras.layers.Dense(10),\n",
    "\n",
    "])"
   ]
  },
  {
   "cell_type": "code",
   "execution_count": 17,
   "metadata": {},
   "outputs": [
    {
     "data": {
      "text/plain": [
       "array([[-0.17965949,  0.05464501,  0.01860342, -0.0131684 ,  0.11689889,\n",
       "         0.5138046 , -0.00374583,  0.31388518,  0.26364607, -0.1515722 ]],\n",
       "      dtype=float32)"
      ]
     },
     "execution_count": 17,
     "metadata": {},
     "output_type": "execute_result"
    }
   ],
   "source": [
    "predictions = model(x_train[:1]).numpy()\n",
    "predictions"
   ]
  },
  {
   "cell_type": "code",
   "execution_count": 18,
   "metadata": {},
   "outputs": [
    {
     "data": {
      "text/plain": [
       "array([[0.07447623, 0.09414014, 0.09080759, 0.08796783, 0.100187  ,\n",
       "        0.14899968, 0.08880062, 0.12200044, 0.11602267, 0.07659773]],\n",
       "      dtype=float32)"
      ]
     },
     "execution_count": 18,
     "metadata": {},
     "output_type": "execute_result"
    }
   ],
   "source": [
    "tf.nn.softmax(predictions).numpy()"
   ]
  },
  {
   "cell_type": "code",
   "execution_count": 19,
   "metadata": {},
   "outputs": [],
   "source": [
    "loss_fn = tf.keras.losses.SparseCategoricalCrossentropy(from_logits=True)"
   ]
  },
  {
   "cell_type": "code",
   "execution_count": 20,
   "metadata": {},
   "outputs": [
    {
     "data": {
      "text/plain": [
       "1.9038111"
      ]
     },
     "execution_count": 20,
     "metadata": {},
     "output_type": "execute_result"
    }
   ],
   "source": [
    "loss_fn(y_train[:1], predictions).numpy()"
   ]
  },
  {
   "cell_type": "code",
   "execution_count": 21,
   "metadata": {},
   "outputs": [],
   "source": [
    "model.compile(optimizer='adam',\n",
    "              loss=loss_fn,\n",
    "              metrics=['accuracy'])"
   ]
  },
  {
   "cell_type": "code",
   "execution_count": 22,
   "metadata": {},
   "outputs": [
    {
     "name": "stdout",
     "output_type": "stream",
     "text": [
      "Epoch 1/5\n",
      "1875/1875 [==============================] - 2s 872us/step - loss: 0.2983 - accuracy: 0.9125\n",
      "Epoch 2/5\n",
      "1875/1875 [==============================] - 2s 835us/step - loss: 0.1440 - accuracy: 0.9575\n",
      "Epoch 3/5\n",
      "1875/1875 [==============================] - 2s 837us/step - loss: 0.1083 - accuracy: 0.9669\n",
      "Epoch 4/5\n",
      "1875/1875 [==============================] - 2s 846us/step - loss: 0.0866 - accuracy: 0.9731\n",
      "Epoch 5/5\n",
      "1875/1875 [==============================] - 2s 865us/step - loss: 0.0749 - accuracy: 0.9767\n"
     ]
    },
    {
     "data": {
      "text/plain": [
       "<keras.callbacks.History at 0x7f9e48c4a0e0>"
      ]
     },
     "execution_count": 22,
     "metadata": {},
     "output_type": "execute_result"
    }
   ],
   "source": [
    "model.fit(x_train, y_train, epochs=5)"
   ]
  },
  {
   "cell_type": "code",
   "execution_count": 23,
   "metadata": {},
   "outputs": [
    {
     "name": "stdout",
     "output_type": "stream",
     "text": [
      "313/313 - 0s - loss: 0.0702 - accuracy: 0.9779 - 253ms/epoch - 808us/step\n"
     ]
    },
    {
     "data": {
      "text/plain": [
       "[0.07018530368804932, 0.9779000282287598]"
      ]
     },
     "execution_count": 23,
     "metadata": {},
     "output_type": "execute_result"
    }
   ],
   "source": [
    "model.evaluate(x_test,  y_test, verbose=2)"
   ]
  },
  {
   "cell_type": "code",
   "execution_count": 24,
   "metadata": {},
   "outputs": [],
   "source": [
    "probability_model = tf.keras.Sequential([\n",
    "  model,\n",
    "  tf.keras.layers.Softmax()\n",
    "])"
   ]
  },
  {
   "cell_type": "code",
   "execution_count": 25,
   "metadata": {},
   "outputs": [
    {
     "data": {
      "text/plain": [
       "<tf.Tensor: shape=(5, 10), dtype=float32, numpy=\n",
       "array([[2.7515065e-07, 2.1401743e-08, 5.1216398e-06, 1.6590323e-04,\n",
       "        1.6983834e-11, 2.0330830e-07, 7.6137750e-15, 9.9982685e-01,\n",
       "        1.5799277e-07, 1.5405561e-06],\n",
       "       [5.2786999e-07, 3.4142280e-04, 9.9960476e-01, 3.6838828e-05,\n",
       "        3.8785160e-12, 1.8012660e-06, 1.7955667e-06, 5.2207266e-12,\n",
       "        1.2939997e-05, 8.0611030e-12],\n",
       "       [1.6375942e-08, 9.9961436e-01, 4.5716253e-05, 4.0786726e-06,\n",
       "        2.1901349e-05, 6.3714315e-06, 9.8599503e-06, 1.7143390e-04,\n",
       "        1.2599258e-04, 3.1319976e-07],\n",
       "       [9.9993932e-01, 6.5517064e-10, 3.9156130e-05, 6.3895506e-08,\n",
       "        9.0748379e-08, 6.5429685e-07, 3.8576372e-06, 1.5859678e-05,\n",
       "        9.4925108e-09, 9.2074441e-07],\n",
       "       [8.5068401e-05, 4.4968609e-10, 3.1145002e-05, 6.1157785e-08,\n",
       "        9.9734193e-01, 4.1925477e-06, 2.9678185e-05, 6.6483175e-05,\n",
       "        9.0023086e-06, 2.4322907e-03]], dtype=float32)>"
      ]
     },
     "execution_count": 25,
     "metadata": {},
     "output_type": "execute_result"
    }
   ],
   "source": [
    "probability_model(x_test[:5])"
   ]
  }
 ],
 "metadata": {
  "kernelspec": {
   "display_name": "Python 3.10.4 ('tf-tutorial')",
   "language": "python",
   "name": "python3"
  },
  "language_info": {
   "codemirror_mode": {
    "name": "ipython",
    "version": 3
   },
   "file_extension": ".py",
   "mimetype": "text/x-python",
   "name": "python",
   "nbconvert_exporter": "python",
   "pygments_lexer": "ipython3",
   "version": "3.10.4"
  },
  "orig_nbformat": 4,
  "vscode": {
   "interpreter": {
    "hash": "f532c8ea3bc5bc181cf1eb6d02a9b3d0e11f5f3dc35c7d6c025992f8b1084f29"
   }
  }
 },
 "nbformat": 4,
 "nbformat_minor": 2
}
