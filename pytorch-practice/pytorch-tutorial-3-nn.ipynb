{
 "cells": [
  {
   "cell_type": "code",
   "execution_count": 1,
   "metadata": {},
   "outputs": [],
   "source": [
    "import os\n",
    "import torch\n",
    "from torch import nn\n",
    "from torch.utils.data import DataLoader\n",
    "from torchvision import datasets, transforms"
   ]
  },
  {
   "cell_type": "code",
   "execution_count": 3,
   "metadata": {},
   "outputs": [
    {
     "name": "stdout",
     "output_type": "stream",
     "text": [
      "Using cpu device\n"
     ]
    }
   ],
   "source": [
    "device = \"cuda\" if torch.cuda.is_available() else \"cpu\"\n",
    "print(f\"Using {device} device\")"
   ]
  },
  {
   "cell_type": "code",
   "execution_count": 2,
   "metadata": {},
   "outputs": [],
   "source": [
    "class NeuralNetwork(nn.Module):\n",
    "    def __init__(self):\n",
    "        super(NeuralNetwork, self).__init__()\n",
    "        self.flatten = nn.Flatten()\n",
    "        self.linear_relu_stack = nn.Sequential(\n",
    "            nn.Linear(28*28, 512),\n",
    "            nn.ReLU(),\n",
    "            nn.Linear(512, 512),\n",
    "            nn.ReLU(),\n",
    "            nn.Linear(512, 10),\n",
    "        )\n",
    "\n",
    "    def forward(self, x):\n",
    "        x = self.flatten(x)\n",
    "        logits = self.linear_relu_stack(x)\n",
    "        return logits"
   ]
  },
  {
   "cell_type": "code",
   "execution_count": 4,
   "metadata": {},
   "outputs": [
    {
     "name": "stdout",
     "output_type": "stream",
     "text": [
      "NeuralNetwork(\n",
      "  (flatten): Flatten(start_dim=1, end_dim=-1)\n",
      "  (linear_relu_stack): Sequential(\n",
      "    (0): Linear(in_features=784, out_features=512, bias=True)\n",
      "    (1): ReLU()\n",
      "    (2): Linear(in_features=512, out_features=512, bias=True)\n",
      "    (3): ReLU()\n",
      "    (4): Linear(in_features=512, out_features=10, bias=True)\n",
      "  )\n",
      ")\n"
     ]
    }
   ],
   "source": [
    "model = NeuralNetwork().to(device)\n",
    "print(model)"
   ]
  },
  {
   "cell_type": "code",
   "execution_count": 17,
   "metadata": {},
   "outputs": [
    {
     "name": "stdout",
     "output_type": "stream",
     "text": [
      "Predicted class: tensor([1])\n"
     ]
    }
   ],
   "source": [
    "X = torch.rand(1, 28, 28, device=device)\n",
    "logits = model(X)\n",
    "pred_probab = nn.Softmax(dim=1)(logits)\n",
    "y_pred = pred_probab.argmax(1)\n",
    "print(f\"Predicted class: {y_pred}\")"
   ]
  },
  {
   "cell_type": "code",
   "execution_count": 18,
   "metadata": {},
   "outputs": [
    {
     "name": "stdout",
     "output_type": "stream",
     "text": [
      "torch.Size([3, 28, 28])\n"
     ]
    }
   ],
   "source": [
    "input_image = torch.rand(3,28,28)\n",
    "print(input_image.size())"
   ]
  },
  {
   "cell_type": "code",
   "execution_count": 19,
   "metadata": {},
   "outputs": [
    {
     "name": "stdout",
     "output_type": "stream",
     "text": [
      "torch.Size([3, 784])\n"
     ]
    }
   ],
   "source": [
    "flatten = nn.Flatten()\n",
    "flat_image = flatten(input_image)\n",
    "print(flat_image.size())"
   ]
  },
  {
   "cell_type": "code",
   "execution_count": 20,
   "metadata": {},
   "outputs": [
    {
     "name": "stdout",
     "output_type": "stream",
     "text": [
      "torch.Size([3, 20])\n"
     ]
    }
   ],
   "source": [
    "layer1 = nn.Linear(in_features=28*28, out_features=20)\n",
    "hidden1 = layer1(flat_image)\n",
    "print(hidden1.size())"
   ]
  },
  {
   "cell_type": "code",
   "execution_count": 21,
   "metadata": {},
   "outputs": [
    {
     "name": "stdout",
     "output_type": "stream",
     "text": [
      "Before ReLU: tensor([[-0.3362, -0.2659,  0.0948, -0.1191, -0.1518,  0.4916,  0.1554, -0.3001,\n",
      "          0.4366, -0.3788, -0.4759,  0.1912,  0.2784, -0.4120,  0.6482,  0.3936,\n",
      "          0.3523, -0.1663,  0.4802, -0.2930],\n",
      "        [-0.0442, -0.6839,  0.2023, -0.2160, -0.2937,  0.4698,  0.3287, -0.0818,\n",
      "          0.1567,  0.0325, -0.4593, -0.2266,  0.4768, -0.0835,  0.2360,  0.1293,\n",
      "          0.4604, -0.1669,  0.4921, -0.2023],\n",
      "        [-0.3536, -0.0475, -0.1239, -0.4441,  0.1171,  0.1996,  0.3329, -0.4055,\n",
      "          0.2578, -0.3536, -0.0612, -0.1838,  0.6516, -0.3232,  0.3558,  0.1649,\n",
      "          0.1071,  0.0513,  0.3084, -0.1730]], grad_fn=<AddmmBackward0>)\n",
      "\n",
      "\n",
      "After ReLU: tensor([[0.0000, 0.0000, 0.0948, 0.0000, 0.0000, 0.4916, 0.1554, 0.0000, 0.4366,\n",
      "         0.0000, 0.0000, 0.1912, 0.2784, 0.0000, 0.6482, 0.3936, 0.3523, 0.0000,\n",
      "         0.4802, 0.0000],\n",
      "        [0.0000, 0.0000, 0.2023, 0.0000, 0.0000, 0.4698, 0.3287, 0.0000, 0.1567,\n",
      "         0.0325, 0.0000, 0.0000, 0.4768, 0.0000, 0.2360, 0.1293, 0.4604, 0.0000,\n",
      "         0.4921, 0.0000],\n",
      "        [0.0000, 0.0000, 0.0000, 0.0000, 0.1171, 0.1996, 0.3329, 0.0000, 0.2578,\n",
      "         0.0000, 0.0000, 0.0000, 0.6516, 0.0000, 0.3558, 0.1649, 0.1071, 0.0513,\n",
      "         0.3084, 0.0000]], grad_fn=<ReluBackward0>)\n"
     ]
    }
   ],
   "source": [
    "print(f\"Before ReLU: {hidden1}\\n\\n\")\n",
    "hidden1 = nn.ReLU()(hidden1)\n",
    "print(f\"After ReLU: {hidden1}\")"
   ]
  },
  {
   "cell_type": "code",
   "execution_count": 23,
   "metadata": {},
   "outputs": [
    {
     "name": "stdout",
     "output_type": "stream",
     "text": [
      "tensor([[-0.1638,  0.0383, -0.0332,  0.3281,  0.2574,  0.2049,  0.1877,  0.5655,\n",
      "         -0.0545, -0.1663],\n",
      "        [-0.1998, -0.1102,  0.1622,  0.3658,  0.1178,  0.1197,  0.1440,  0.3352,\n",
      "          0.0012, -0.0572],\n",
      "        [-0.2425,  0.0128, -0.0330,  0.3182,  0.1259,  0.1594,  0.0935,  0.4460,\n",
      "         -0.0427, -0.0886]], grad_fn=<AddmmBackward0>)\n"
     ]
    }
   ],
   "source": [
    "seq_modules = nn.Sequential(\n",
    "    flatten,\n",
    "    layer1,\n",
    "    nn.ReLU(),\n",
    "    nn.Linear(20, 10)\n",
    ")\n",
    "input_image = torch.rand(3,28,28)\n",
    "logits = seq_modules(input_image)\n",
    "print(logits)"
   ]
  },
  {
   "cell_type": "code",
   "execution_count": 25,
   "metadata": {},
   "outputs": [
    {
     "name": "stdout",
     "output_type": "stream",
     "text": [
      "tensor([[0.0737, 0.0902, 0.0839, 0.1205, 0.1122, 0.1065, 0.1047, 0.1527, 0.0822,\n",
      "         0.0735],\n",
      "        [0.0739, 0.0808, 0.1061, 0.1301, 0.1015, 0.1017, 0.1042, 0.1262, 0.0903,\n",
      "         0.0852],\n",
      "        [0.0715, 0.0922, 0.0881, 0.1252, 0.1033, 0.1068, 0.1000, 0.1423, 0.0873,\n",
      "         0.0834]], grad_fn=<SoftmaxBackward0>)\n"
     ]
    }
   ],
   "source": [
    "softmax = nn.Softmax(dim=1)\n",
    "pred_probab = softmax(logits)\n",
    "print(pred_probab)"
   ]
  },
  {
   "cell_type": "code",
   "execution_count": 26,
   "metadata": {},
   "outputs": [
    {
     "name": "stdout",
     "output_type": "stream",
     "text": [
      "Model structure: NeuralNetwork(\n",
      "  (flatten): Flatten(start_dim=1, end_dim=-1)\n",
      "  (linear_relu_stack): Sequential(\n",
      "    (0): Linear(in_features=784, out_features=512, bias=True)\n",
      "    (1): ReLU()\n",
      "    (2): Linear(in_features=512, out_features=512, bias=True)\n",
      "    (3): ReLU()\n",
      "    (4): Linear(in_features=512, out_features=10, bias=True)\n",
      "  )\n",
      ")\n",
      "\n",
      "\n",
      "Layer: linear_relu_stack.0.weight | Size: torch.Size([512, 784]) | Values : tensor([[ 0.0322,  0.0030,  0.0204,  ..., -0.0219, -0.0331,  0.0133],\n",
      "        [ 0.0314, -0.0185, -0.0179,  ..., -0.0031, -0.0093, -0.0270]],\n",
      "       grad_fn=<SliceBackward0>) \n",
      "\n",
      "Layer: linear_relu_stack.0.bias | Size: torch.Size([512]) | Values : tensor([-0.0201,  0.0083], grad_fn=<SliceBackward0>) \n",
      "\n",
      "Layer: linear_relu_stack.2.weight | Size: torch.Size([512, 512]) | Values : tensor([[-0.0304,  0.0062,  0.0398,  ..., -0.0073, -0.0192, -0.0020],\n",
      "        [-0.0434, -0.0328,  0.0426,  ...,  0.0378, -0.0069,  0.0015]],\n",
      "       grad_fn=<SliceBackward0>) \n",
      "\n",
      "Layer: linear_relu_stack.2.bias | Size: torch.Size([512]) | Values : tensor([-0.0222,  0.0192], grad_fn=<SliceBackward0>) \n",
      "\n",
      "Layer: linear_relu_stack.4.weight | Size: torch.Size([10, 512]) | Values : tensor([[-0.0056,  0.0435, -0.0264,  ...,  0.0328,  0.0078, -0.0339],\n",
      "        [ 0.0103, -0.0363, -0.0237,  ...,  0.0202,  0.0319,  0.0401]],\n",
      "       grad_fn=<SliceBackward0>) \n",
      "\n",
      "Layer: linear_relu_stack.4.bias | Size: torch.Size([10]) | Values : tensor([-0.0378,  0.0246], grad_fn=<SliceBackward0>) \n",
      "\n"
     ]
    }
   ],
   "source": [
    "print(f\"Model structure: {model}\\n\\n\")\n",
    "\n",
    "for name, param in model.named_parameters():\n",
    "    print(f\"Layer: {name} | Size: {param.size()} | Values : {param[:2]} \\n\")"
   ]
  }
 ],
 "metadata": {
  "kernelspec": {
   "display_name": "Python 3.10.4 ('pytorch-tutorials')",
   "language": "python",
   "name": "python3"
  },
  "language_info": {
   "codemirror_mode": {
    "name": "ipython",
    "version": 3
   },
   "file_extension": ".py",
   "mimetype": "text/x-python",
   "name": "python",
   "nbconvert_exporter": "python",
   "pygments_lexer": "ipython3",
   "version": "3.10.4"
  },
  "orig_nbformat": 4,
  "vscode": {
   "interpreter": {
    "hash": "c6075a58ae9b5ba691bcc191a2f77881da93f3d3f5cc8a29e5a444b1d8885a94"
   }
  }
 },
 "nbformat": 4,
 "nbformat_minor": 2
}
